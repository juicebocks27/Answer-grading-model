{
 "cells": [
  {
   "cell_type": "code",
   "execution_count": 1,
   "metadata": {},
   "outputs": [],
   "source": [
    "import string\n",
    "import sys\n",
    "import math\n",
    "import os"
   ]
  },
  {
   "cell_type": "code",
   "execution_count": 2,
   "metadata": {},
   "outputs": [],
   "source": [
    "# function for returning the data inside a file\n",
    "def readFile(filename):\n",
    "    try:\n",
    "        with open(filename , 'r') as file :\n",
    "            data = file.read()\n",
    "        return data\n",
    "\n",
    "    except IOError:\n",
    "        print('File unable to open!')\n",
    "        sys.exit()"
   ]
  },
  {
   "cell_type": "code",
   "execution_count": 3,
   "metadata": {},
   "outputs": [],
   "source": [
    "# function for returning the files inside a folder\n",
    "def readFolder():\n",
    "    try:\n",
    "        folderList = os.listdir('./Test Cases')\n",
    "        return folderList\n",
    "\n",
    "    except IOError:\n",
    "        print('Unable to open folder!')\n",
    "        sys.exit()"
   ]
  },
  {
   "cell_type": "code",
   "execution_count": 4,
   "metadata": {},
   "outputs": [],
   "source": [
    "# to create a mapping table to replace the first string with second\n",
    "table = str.maketrans(string.punctuation + string.ascii_uppercase , \" \" * len(string.punctuation) + string.ascii_lowercase) "
   ]
  },
  {
   "cell_type": "code",
   "execution_count": 5,
   "metadata": {},
   "outputs": [],
   "source": [
    "# returning list of every word\n",
    "def list_of_words(text):\n",
    "    text = text.translate(table)\n",
    "    list_of_words = text.split()\n",
    "    return list_of_words"
   ]
  },
  {
   "cell_type": "code",
   "execution_count": 6,
   "metadata": {},
   "outputs": [],
   "source": [
    "# checking the fequency of appearance of words \n",
    "def frequency_of_words(list_of_words):\n",
    "    dictionary_element = {}\n",
    "    for i in list_of_words :\n",
    "        if i in dictionary_element :  \n",
    "            dictionary_element[i] = dictionary_element[i] + 1\n",
    "        else :\n",
    "            dictionary_element[i] = 1\n",
    "    return dictionary_element"
   ]
  },
  {
   "cell_type": "code",
   "execution_count": 7,
   "metadata": {},
   "outputs": [],
   "source": [
    "# defining a general function to generate the frequency list\n",
    "def mapping(filename):\n",
    "    linelist = readFile(filename)\n",
    "    wordlist = list_of_words(linelist)\n",
    "    frequency = frequency_of_words(wordlist)\n",
    "    return frequency"
   ]
  },
  {
   "cell_type": "code",
   "execution_count": 8,
   "metadata": {},
   "outputs": [],
   "source": [
    "def dotproduct(template , student_answer):\n",
    "    result = 0 \n",
    "    for key in template :\n",
    "        if key in student_answer :\n",
    "            result = result + template[key] * student_answer[key]\n",
    "    return result"
   ]
  },
  {
   "cell_type": "code",
   "execution_count": 9,
   "metadata": {},
   "outputs": [],
   "source": [
    "# function for generating a ratio from the similarity\n",
    "def angle(doc1 , doc2):\n",
    "    numerator = dotproduct(doc1,doc2)\n",
    "    denominator = math.sqrt( dotproduct(doc1,doc1) * dotproduct(doc2,doc2) )\n",
    "\n",
    "    # checking for denominator = 0 condition\n",
    "    try: \n",
    "        ratio = numerator/denominator\n",
    "\n",
    "    except ZeroDivisionError:\n",
    "        ratio = 0\n",
    "\n",
    "    angle = math.acos(ratio)\n",
    "    return angle"
   ]
  },
  {
   "cell_type": "code",
   "execution_count": 10,
   "metadata": {},
   "outputs": [],
   "source": [
    "def comparision_percentage(file1 , file2):\n",
    "    mapping1 = mapping(file1)\n",
    "    mapping2 = mapping(file2)\n",
    "\n",
    "    similarity = round(angle(mapping1 , mapping2),4)\n",
    "    return 1 - min(similarity,1)"
   ]
  },
  {
   "cell_type": "code",
   "execution_count": 11,
   "metadata": {},
   "outputs": [],
   "source": [
    "# uncomment to see the answer key\n",
    "# answer_key = readFile('./Correct Reference Answer - Projectile.txt')\n",
    "# print(\"ANSWER KEY: \\n\"+answer_key)"
   ]
  },
  {
   "cell_type": "code",
   "execution_count": 12,
   "metadata": {},
   "outputs": [],
   "source": [
    "# getting all the files inside the folder\n",
    "folderList = readFolder()\n",
    "folderList.sort()"
   ]
  },
  {
   "cell_type": "code",
   "execution_count": 13,
   "metadata": {},
   "outputs": [
    {
     "name": "stdout",
     "output_type": "stream",
     "text": [
      "File Name: 0. 100% copy.txt\n",
      "Similarity: 100.0%\n",
      "\n",
      "File Name: 1. Missing example.txt\n",
      "Similarity: 84.15%\n",
      "\n",
      "File Name: 2. One sentence missing.txt\n",
      "Similarity: 68.86%\n",
      "\n",
      "File Name: 3. Spelling mistake single word.txt\n",
      "Similarity: 87.08%\n",
      "\n",
      "File Name: 4. Spelling mistake same word multiple times.txt\n",
      "Similarity: 61.02%\n",
      "\n",
      "File Name: 5. Single sentence answer.txt\n",
      "Similarity: 31.53%\n",
      "\n",
      "File Name: 6. Entire answer but in points.txt\n",
      "Similarity: 100.0%\n",
      "\n",
      "File Name: 7. Last sentence alone.txt\n",
      "Similarity: 15.25%\n",
      "\n",
      "File Name: 8. Incomplete sentence.txt\n",
      "Similarity: 6.81%\n",
      "\n",
      "File Name: 9. Blank doc.txt\n",
      "Similarity: 0%\n",
      "\n"
     ]
    }
   ],
   "source": [
    "for file in folderList:\n",
    "# ignoring ds_store file (macOS)\n",
    "    if(file!='.DS_Store'):\n",
    "       \n",
    "        print(\"File Name: \" + file)\n",
    "        #  uncomment to see each testcase\n",
    "        # print(\"Test Case: \\n\" +readFile('./Test Cases/'+file))\n",
    "        rounded_similarity_value = round(comparision_percentage(\"./Correct Reference Answer - Projectile.txt\" , './Test Cases/'+file)*100,3 )\n",
    "        print(\"Similarity: \" + str(rounded_similarity_value) + '%\\n')\n"
   ]
  }
 ],
 "metadata": {
  "interpreter": {
   "hash": "b0fa6594d8f4cbf19f97940f81e996739fb7646882a419484c72d19e05852a7e"
  },
  "kernelspec": {
   "display_name": "Python 3.9.12 64-bit",
   "language": "python",
   "name": "python3"
  },
  "language_info": {
   "codemirror_mode": {
    "name": "ipython",
    "version": 3
   },
   "file_extension": ".py",
   "mimetype": "text/x-python",
   "name": "python",
   "nbconvert_exporter": "python",
   "pygments_lexer": "ipython3",
   "version": "3.9.12"
  },
  "orig_nbformat": 4
 },
 "nbformat": 4,
 "nbformat_minor": 2
}
